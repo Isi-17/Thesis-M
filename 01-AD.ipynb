{
 "cells": [
  {
   "cell_type": "markdown",
   "metadata": {},
   "source": [
    "# Forward Mode Automatic Differentiation\n",
    "## Operator Overloading Approach\n",
    "\n",
    "In this notebook, we will implement **Forward Mode Automatic Differentiation** using the operator overloading method in Python. The core idea is to define a custom `Variable` class that keeps track of both the value and its derivative (the primal and tangent) and overloads arithmetic operations to propagate derivatives according to calculus rules.\n"
   ]
  },
  {
   "cell_type": "markdown",
   "metadata": {},
   "source": [
    "## 📐 The `Variable` Class\n",
    "The `Variable` class encapsulates two values:\n",
    "- `primal`: the actual value of the variable (used during function evaluation)\n",
    "- `tangent`: the derivative of the function with respect to that variable\n",
    "\n",
    "We also overload arithmetic operations so that when two `Variable` instances interact, both the value and the derivative are computed automatically.\n"
   ]
  },
  {
   "cell_type": "code",
   "execution_count": 58,
   "metadata": {},
   "outputs": [],
   "source": [
    "import math\n",
    "\n",
    "class Variable:\n",
    "    def __init__(self, primal, tangent=0.0):\n",
    "        self.primal = primal\n",
    "        self.tangent = tangent\n",
    "\n",
    "    def __add__(self, other):\n",
    "        return Variable(self.primal + other.primal, self.tangent + other.tangent)\n",
    "\n",
    "    def __sub__(self, other):\n",
    "        return Variable(self.primal - other.primal, self.tangent - other.tangent)\n",
    "\n",
    "    def __mul__(self, other):\n",
    "        return Variable(\n",
    "            self.primal * other.primal,\n",
    "            self.tangent * other.primal + other.tangent * self.primal\n",
    "        )\n",
    "\n",
    "    def __truediv__(self, other):\n",
    "        return Variable(\n",
    "            self.primal / other.primal,\n",
    "            (self.tangent * other.primal - self.primal * other.tangent) / (other.primal**2)\n",
    "        )\n",
    "    \n",
    "    def __radd__(self, other):\n",
    "        return self + other if isinstance(other, Variable) else Variable(self.primal + other, self.tangent)\n",
    "\n",
    "    def __rmul__(self, other):\n",
    "        return self * other if isinstance(other, Variable) else Variable(self.primal * other, self.tangent * other)\n",
    "\n",
    "\n",
    "    def __repr__(self):\n",
    "        return f\"primal: {self.primal:.3f}, tangent: {self.tangent:.3f}\"\n",
    "        \n",
    "\n",
    "def sin(x):\n",
    "    return Variable(math.sin(x.primal), math.cos(x.primal) * x.tangent)\n",
    "\n",
    "def exp(x):\n",
    "    epx = math.exp(x.primal)\n",
    "    return Variable(epx, epx * x.tangent)\n",
    "\n",
    "def square(x):\n",
    "    return Variable(x.primal**2, 2 * x.primal * x.tangent)\n",
    "\n",
    "    \n"
   ]
  },
  {
   "cell_type": "markdown",
   "metadata": {},
   "source": [
    "## Example 1: Automatic differentiation in forward mode\n",
    "Let's calculate the derivative of the function\n",
    "\n",
    "$$f(x_1, x_2) = \\left[\\sin\\left(\\frac{x_1}{x_2}\\right) + \\frac{x_1}{x_2} - e^{x_2}\\right] \\cdot \\left[\\frac{x_1}{x_2} - e^{x_2}\\right]$$\n",
    "\n",
    "using forward mode, at the point $ (x_1, x_2) = (1.5, 0.5) $ first with respect to $ x_1 $, and then with respect to $ x_2 $."
   ]
  },
  {
   "cell_type": "code",
   "execution_count": 37,
   "metadata": {},
   "outputs": [],
   "source": [
    "def f(x1, x2):\n",
    "    return (sin(x1 / x2) + x1 / x2 - exp(x2)) * (x1 / x2 - exp(x2))"
   ]
  },
  {
   "cell_type": "markdown",
   "metadata": {},
   "source": [
    "### Calculation of $ \\frac{\\partial f}{\\partial x_1} $ at (1.5, 0.5)"
   ]
  },
  {
   "cell_type": "code",
   "execution_count": 38,
   "metadata": {},
   "outputs": [
    {
     "name": "stdout",
     "output_type": "stream",
     "text": [
      "f(x1, x2) = 2.017\n",
      "∂f/∂x1 = 3.012\n"
     ]
    }
   ],
   "source": [
    "x1 = Variable(1.5, 1.0)  # ∂x1/∂x1 = 1\n",
    "x2 = Variable(0.5, 0.0)  # ∂x2/∂x1 = 0\n",
    "\n",
    "y = f(x1, x2)\n",
    "print(f\"f(x1, x2) = {y.primal:.3f}\")\n",
    "print(f\"∂f/∂x1 = {y.tangent:.3f}\")"
   ]
  },
  {
   "cell_type": "markdown",
   "metadata": {},
   "source": [
    "### Calculation of $ \\frac{\\partial f}{\\partial x_2} $ at (1.5, 0.5)"
   ]
  },
  {
   "cell_type": "code",
   "execution_count": 39,
   "metadata": {},
   "outputs": [
    {
     "name": "stdout",
     "output_type": "stream",
     "text": [
      "f(x1, x2) = 2.017\n",
      "∂f/∂x2 = -13.724\n"
     ]
    }
   ],
   "source": [
    "x1 = Variable(1.5, 0.0)  # ∂x1/∂x2 = 0\n",
    "x2 = Variable(0.5, 1.0)  # ∂x2/∂x2 = 1\n",
    "\n",
    "y = f(x1, x2)\n",
    "print(f\"f(x1, x2) = {y.primal:.3f}\")\n",
    "print(f\"∂f/∂x2 = {y.tangent:.3f}\")\n"
   ]
  },
  {
   "cell_type": "markdown",
   "metadata": {},
   "source": [
    "## Example 2: Automatic differentiation in forward mode\n",
    "\n",
    "Let's calculate the derivative of the function\n",
    "\n",
    "\n",
    "\n",
    "\\begin{equation}\n",
    "\n",
    "    f(x_1, x_2, x_3, x_4) = (x_2 \\sin(x_1) + x_2^2, 2 \\, x_3x_4 + x_1) = (r_0, r_1)\n",
    "\n",
    "\\end{equation}\n",
    "\n",
    "\n",
    "\n",
    "using forward mode, at the point $(x_1, x_2, x_3, x_4) = (1.5, 0.5, 2.0, 3.0)$. This example will focus on getting the Jacobian matrix."
   ]
  },
  {
   "cell_type": "code",
   "execution_count": 110,
   "metadata": {},
   "outputs": [],
   "source": [
    "def g(x1, x2, x3, x4):\n",
    "    r0 = x2 * sin(x1) + square(x2)\n",
    "    r1 = 2 * x3 * x4 + x1\n",
    "    return [r0, r1]\n"
   ]
  },
  {
   "cell_type": "code",
   "execution_count": 138,
   "metadata": {},
   "outputs": [],
   "source": [
    "def compute_jacobian(f, x_vals):\n",
    "    n_inputs = len(x_vals)\n",
    "    y_sample = f(*[Variable(val, 0.0) for val in x_vals])\n",
    "    n_outputs = len(y_sample)\n",
    "    \n",
    "    jacobian = []\n",
    "\n",
    "    for i in range(n_inputs):\n",
    "        # Set all tangents to 0.0 except for the i-th variable\n",
    "        x_vars = [Variable(val, 1.0 if j == i else 0.0) for j, val in enumerate(x_vals)]\n",
    "        y = f(*x_vars)\n",
    "        jacobian.append([yi.tangent for yi in y])\n",
    "    \n",
    "    # Print primal output and the Jacobian in aligned format with square brackets\n",
    "    print(f\"g({', '.join(map(str, x_vals))}) =\", [yi.primal for yi in y_sample])\n",
    "    print(\"\\nJ_g:\")\n",
    "    for row in list(map(list, zip(*jacobian))):\n",
    "        print(f\"[{', '.join(f'{val: .3f}' for val in row)}]\")\n",
    "\n",
    "    return jacobian\n"
   ]
  },
  {
   "cell_type": "code",
   "execution_count": 139,
   "metadata": {},
   "outputs": [
    {
     "name": "stdout",
     "output_type": "stream",
     "text": [
      "g(1.5, 0.5, 2.0, 3.0) = [0.7487474933020273, 13.5]\n",
      "\n",
      "J_g:\n",
      "[ 0.035,  1.997,  0.000,  0.000]\n",
      "[ 1.000,  0.000,  6.000,  4.000]\n"
     ]
    }
   ],
   "source": [
    "x_vals = [1.5, 0.5, 2.0, 3.0]\n",
    "J = compute_jacobian(g, x_vals)"
   ]
  },
  {
   "cell_type": "markdown",
   "metadata": {},
   "source": [
    "# Reverse Mode"
   ]
  }
 ],
 "metadata": {
  "kernelspec": {
   "display_name": "base",
   "language": "python",
   "name": "python3"
  },
  "language_info": {
   "codemirror_mode": {
    "name": "ipython",
    "version": 3
   },
   "file_extension": ".py",
   "mimetype": "text/x-python",
   "name": "python",
   "nbconvert_exporter": "python",
   "pygments_lexer": "ipython3",
   "version": "3.9.12"
  }
 },
 "nbformat": 4,
 "nbformat_minor": 2
}
